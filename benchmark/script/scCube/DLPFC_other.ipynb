{
 "cells": [
  {
   "cell_type": "code",
   "execution_count": 1,
   "id": "3c9f4b83-638b-4e98-96bc-d84f4835b953",
   "metadata": {},
   "outputs": [
    {
     "name": "stderr",
     "output_type": "stream",
     "text": [
      "/home/qjy/anaconda3/envs/sccube/lib/python3.8/site-packages/tqdm/auto.py:22: TqdmWarning: IProgress not found. Please update jupyter and ipywidgets. See https://ipywidgets.readthedocs.io/en/stable/user_install.html\n",
      "  from .autonotebook import tqdm as notebook_tqdm\n"
     ]
    }
   ],
   "source": [
    "import scCube\n",
    "from scCube import scCube\n",
    "import pandas as pd\n",
    "import numpy as np\n",
    "import warnings\n",
    "import time\n",
    "warnings.filterwarnings(\"ignore\")"
   ]
  },
  {
   "cell_type": "code",
   "execution_count": 2,
   "id": "3429e96d-fe54-4ac8-bc74-ae93a0a52ca3",
   "metadata": {},
   "outputs": [],
   "source": [
    "model = scCube()"
   ]
  },
  {
   "cell_type": "code",
   "execution_count": 3,
   "id": "0ee7f22f-f9a4-4f4b-b66f-2bde44ccb20e",
   "metadata": {},
   "outputs": [
    {
     "name": "stdout",
     "output_type": "stream",
     "text": [
      "the input is count matrix, normalizing it firstly...\n",
      "the input is count matrix, normalizing it firstly...\n"
     ]
    }
   ],
   "source": [
    "# slice: 151507\n",
    "sc_data = pd.read_csv('data/DLPFC/processed/' + '151507' + '_data.csv', index_col=0)\n",
    "sc_meta = pd.read_csv('data/DLPFC/processed/' + '151507' + '_meta.csv', index_col=0)\n",
    "    \n",
    "sc_adata = model.pre_process(\n",
    "    sc_data=sc_data, \n",
    "    sc_meta=sc_meta,\n",
    "    is_normalized=False)\n",
    "\n",
    "# slice: 151676\n",
    "sc_data = pd.read_csv('data/DLPFC/processed/' + '151676' + '_data.csv', index_col=0)\n",
    "sc_meta = pd.read_csv('data/DLPFC/processed/' + '151676' + '_meta.csv', index_col=0)\n",
    "    \n",
    "sc_adata2 = model.pre_process(\n",
    "    sc_data=sc_data, \n",
    "    sc_meta=sc_meta,\n",
    "    is_normalized=False)"
   ]
  },
  {
   "cell_type": "code",
   "execution_count": 4,
   "id": "6614b41e-5082-43a9-9cc1-ad16336583c0",
   "metadata": {},
   "outputs": [
    {
     "data": {
      "text/plain": [
       "{'Layer_3': 836,\n",
       " 'Layer_5': 649,\n",
       " 'Layer_6': 616,\n",
       " 'WM': 533,\n",
       " 'Layer_1': 289,\n",
       " 'Layer_2': 254,\n",
       " 'Layer_4': 254}"
      ]
     },
     "execution_count": 4,
     "metadata": {},
     "output_type": "execute_result"
    }
   ],
   "source": [
    "dict(sc_adata2.obs['Cell_type'].value_counts())"
   ]
  },
  {
   "cell_type": "code",
   "execution_count": 5,
   "id": "b6b85552-7804-4ae0-b1f3-e0c32f6155bd",
   "metadata": {},
   "outputs": [
    {
     "name": "stdout",
     "output_type": "stream",
     "text": [
      "generating by the targeted proportion of cell types...\n",
      "loading model from /home/qjy/workspace/scCube/save_model/slice151507_epoch100000.pth\n",
      "vae loading done!\n"
     ]
    },
    {
     "name": "stderr",
     "output_type": "stream",
     "text": [
      "Generate Epoch: 1: 100%|██████████| 3431/3431 [00:00<00:00, 4083.78it/s]\n"
     ]
    },
    {
     "name": "stdout",
     "output_type": "stream",
     "text": [
      "generated done!\n",
      "data have been prepared!\n"
     ]
    }
   ],
   "source": [
    "# load model trained from slice:151507\n",
    "generate_sc_meta, generate_sc_data = model.load_vae_and_generate_cell(\n",
    "        sc_adata=sc_adata,\n",
    "        celltype_key='Cell_type',\n",
    "        cell_key='Cell',\n",
    "        target_num=dict(sc_adata2.obs['Cell_type'].value_counts()),\n",
    "        hidden_size=128,\n",
    "        load_path='/home/qjy/workspace/scCube/save_model/slice151507_epoch100000.pth',\n",
    "        used_device='cuda:0')"
   ]
  },
  {
   "cell_type": "code",
   "execution_count": 6,
   "id": "6426f57e-5f54-40b2-9216-8575fbc4c4fb",
   "metadata": {},
   "outputs": [],
   "source": [
    "generate_sc_data, generate_sc_meta = model.generate_pattern_reference(\n",
    "        sc_adata=sc_adata2,\n",
    "        generate_sc_data=generate_sc_data,\n",
    "        generate_sc_meta=generate_sc_meta,\n",
    "        celltype_key='Cell_type',\n",
    "        spatial_key=['x', 'y'],\n",
    "        cost_metric='sqeuclidean'\n",
    "    )"
   ]
  },
  {
   "cell_type": "code",
   "execution_count": 7,
   "id": "0eed5ec9-2972-4cd8-8544-8bc96d01fecb",
   "metadata": {},
   "outputs": [],
   "source": [
    "# saving\n",
    "generate_sc_data.to_csv('result/sccube_DLPFC_151676_epoch100000_data_trained_on_other.csv')\n",
    "generate_sc_meta.to_csv('result/sccube_DLPFC_151676_epoch100000_meta_trained_on_other.csv')"
   ]
  },
  {
   "cell_type": "code",
   "execution_count": null,
   "id": "b06a639c-88a8-467b-ad82-c90ddb1dcf74",
   "metadata": {},
   "outputs": [],
   "source": []
  }
 ],
 "metadata": {
  "kernelspec": {
   "display_name": "sccube",
   "language": "python",
   "name": "sccube"
  },
  "language_info": {
   "codemirror_mode": {
    "name": "ipython",
    "version": 3
   },
   "file_extension": ".py",
   "mimetype": "text/x-python",
   "name": "python",
   "nbconvert_exporter": "python",
   "pygments_lexer": "ipython3",
   "version": "3.8.16"
  }
 },
 "nbformat": 4,
 "nbformat_minor": 5
}
