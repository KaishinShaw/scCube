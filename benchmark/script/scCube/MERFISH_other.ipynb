{
 "cells": [
  {
   "cell_type": "code",
   "execution_count": 1,
   "id": "0d9fc32f-2a28-49cb-a2d0-f9ed99f651c1",
   "metadata": {},
   "outputs": [
    {
     "name": "stderr",
     "output_type": "stream",
     "text": [
      "/home/qjy/anaconda3/envs/sccube/lib/python3.8/site-packages/tqdm/auto.py:22: TqdmWarning: IProgress not found. Please update jupyter and ipywidgets. See https://ipywidgets.readthedocs.io/en/stable/user_install.html\n",
      "  from .autonotebook import tqdm as notebook_tqdm\n"
     ]
    }
   ],
   "source": [
    "import scCube\n",
    "from scCube import scCube\n",
    "import pandas as pd\n",
    "import numpy as np\n",
    "import warnings\n",
    "import time\n",
    "warnings.filterwarnings(\"ignore\")"
   ]
  },
  {
   "cell_type": "code",
   "execution_count": 2,
   "id": "1bce0912-511b-452e-87ea-8863593b4cf3",
   "metadata": {},
   "outputs": [],
   "source": [
    "model = scCube()"
   ]
  },
  {
   "cell_type": "code",
   "execution_count": 3,
   "id": "d7816cfc-2de9-4a1a-ba25-eb7bd2a02ac3",
   "metadata": {},
   "outputs": [
    {
     "name": "stdout",
     "output_type": "stream",
     "text": [
      "the input is count matrix, normalizing it firstly...\n",
      "the input is count matrix, normalizing it firstly...\n"
     ]
    }
   ],
   "source": [
    "# bregma: 0.06\n",
    "sc_data = pd.read_csv('data/MERFISH/processed/Animal1_Bregma_' + '0.06' + '_data.csv', index_col=0)\n",
    "sc_meta = pd.read_csv('data/MERFISH/processed/Animal1_Bregma_' + '0.06' + '_meta.csv', index_col=0)\n",
    "    \n",
    "sc_adata = model.pre_process(\n",
    "    sc_data=sc_data, \n",
    "    sc_meta=sc_meta,\n",
    "    is_normalized=False)\n",
    "\n",
    "# bregma: -0.29\n",
    "sc_data = pd.read_csv('data/MERFISH/processed/Animal1_Bregma_' + 'n0.29' + '_data.csv', index_col=0)\n",
    "sc_meta = pd.read_csv('data/MERFISH/processed/Animal1_Bregma_' + 'n0.29' + '_meta.csv', index_col=0)\n",
    "    \n",
    "sc_adata2 = model.pre_process(\n",
    "    sc_data=sc_data, \n",
    "    sc_meta=sc_meta,\n",
    "    is_normalized=False)"
   ]
  },
  {
   "cell_type": "code",
   "execution_count": 4,
   "id": "0b91acaa-b10e-40a1-a372-84e6c4cd2d5a",
   "metadata": {},
   "outputs": [
    {
     "data": {
      "text/plain": [
       "{'Inhibitory': 2013,\n",
       " 'Excitatory': 1319,\n",
       " 'Astrocyte': 763,\n",
       " 'Endothelial': 495,\n",
       " 'OD Mature': 323,\n",
       " 'OD Immature': 221,\n",
       " 'Ependymal': 202,\n",
       " 'Microglia': 135,\n",
       " 'Pericytes': 46}"
      ]
     },
     "execution_count": 4,
     "metadata": {},
     "output_type": "execute_result"
    }
   ],
   "source": [
    "dict(sc_adata2.obs['Cell_type'].value_counts())"
   ]
  },
  {
   "cell_type": "code",
   "execution_count": 5,
   "id": "27a6c5d2-5941-48ca-b1e9-e760b39cfc6b",
   "metadata": {},
   "outputs": [
    {
     "name": "stdout",
     "output_type": "stream",
     "text": [
      "generating by the targeted proportion of cell types...\n",
      "loading model from /home/qjy/workspace/scCube/save_model/bregma_0.06_epoch50000.pth\n",
      "vae loading done!\n"
     ]
    },
    {
     "name": "stderr",
     "output_type": "stream",
     "text": [
      "Generate Epoch: 1: 100%|██████████| 5517/5517 [00:00<00:00, 8226.42it/s]"
     ]
    },
    {
     "name": "stdout",
     "output_type": "stream",
     "text": [
      "generated done!\n",
      "data have been prepared!\n"
     ]
    },
    {
     "name": "stderr",
     "output_type": "stream",
     "text": [
      "\n"
     ]
    }
   ],
   "source": [
    "# load model trained from bregma: 0.06\n",
    "generate_sc_meta, generate_sc_data = model.load_vae_and_generate_cell(\n",
    "        sc_adata=sc_adata,\n",
    "        celltype_key='Cell_type',\n",
    "        cell_key='Cell',\n",
    "        target_num=dict(sc_adata2.obs['Cell_type'].value_counts()),\n",
    "        hidden_size=128,\n",
    "        load_path='/home/qjy/workspace/scCube/save_model/bregma_0.06_epoch50000.pth',\n",
    "        used_device='cuda:0')"
   ]
  },
  {
   "cell_type": "code",
   "execution_count": 6,
   "id": "b213665d-bba8-445a-b524-52adfc1f3101",
   "metadata": {},
   "outputs": [],
   "source": [
    "generate_sc_data, generate_sc_meta = model.generate_pattern_reference(\n",
    "        sc_adata=sc_adata2,\n",
    "        generate_sc_data=generate_sc_data,\n",
    "        generate_sc_meta=generate_sc_meta,\n",
    "        celltype_key='Cell_type',\n",
    "        spatial_key=['x', 'y'],\n",
    "        cost_metric='sqeuclidean'\n",
    "    )"
   ]
  },
  {
   "cell_type": "code",
   "execution_count": 7,
   "id": "c4a2fcbb-a6f5-4504-aefd-838fddd8f92b",
   "metadata": {},
   "outputs": [],
   "source": [
    "# saving\n",
    "generate_sc_data.to_csv('result/sccube_MERFISH_n0.29_epoch50000_data_trained_on_other.csv')\n",
    "generate_sc_meta.to_csv('result/sccube_MERFISH_n0.29_epoch50000_meta_trained_on_other.csv')"
   ]
  },
  {
   "cell_type": "code",
   "execution_count": null,
   "id": "a340edd2-f437-48f4-b7ae-f0c1637f3b28",
   "metadata": {},
   "outputs": [],
   "source": []
  }
 ],
 "metadata": {
  "kernelspec": {
   "display_name": "sccube",
   "language": "python",
   "name": "sccube"
  },
  "language_info": {
   "codemirror_mode": {
    "name": "ipython",
    "version": 3
   },
   "file_extension": ".py",
   "mimetype": "text/x-python",
   "name": "python",
   "nbconvert_exporter": "python",
   "pygments_lexer": "ipython3",
   "version": "3.8.16"
  }
 },
 "nbformat": 4,
 "nbformat_minor": 5
}
