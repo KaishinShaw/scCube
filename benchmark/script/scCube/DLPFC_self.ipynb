{
 "cells": [
  {
   "cell_type": "code",
   "execution_count": 1,
   "id": "17cd4b10-7adf-4bc9-9424-b3f9488e5fa6",
   "metadata": {},
   "outputs": [
    {
     "name": "stderr",
     "output_type": "stream",
     "text": [
      "/home/qjy/anaconda3/envs/sccube/lib/python3.8/site-packages/tqdm/auto.py:22: TqdmWarning: IProgress not found. Please update jupyter and ipywidgets. See https://ipywidgets.readthedocs.io/en/stable/user_install.html\n",
      "  from .autonotebook import tqdm as notebook_tqdm\n"
     ]
    }
   ],
   "source": [
    "import scCube\n",
    "from scCube import scCube\n",
    "import pandas as pd\n",
    "import numpy as np\n",
    "import warnings\n",
    "import time\n",
    "warnings.filterwarnings(\"ignore\")"
   ]
  },
  {
   "cell_type": "code",
   "execution_count": 2,
   "id": "65734fc4-91d7-4457-9c5f-de652a57cfb2",
   "metadata": {},
   "outputs": [],
   "source": [
    "model = scCube()"
   ]
  },
  {
   "cell_type": "code",
   "execution_count": 3,
   "id": "0da1b505-a083-4fb8-94b5-9e88412f7162",
   "metadata": {},
   "outputs": [],
   "source": [
    "epochs = 100000\n",
    "slice_list = ['151507', '151508', '151509', '151510', \n",
    "              '151669', '151670', '151671', '151672', \n",
    "              '151673', '151674', '151675', '151676'] \n",
    "running_time = []"
   ]
  },
  {
   "cell_type": "code",
   "execution_count": null,
   "id": "9b780972-cbfb-4458-a430-c2208327f2b0",
   "metadata": {},
   "outputs": [
    {
     "name": "stdout",
     "output_type": "stream",
     "text": [
      "Training model using slice: 151507 data...\n",
      "the input is count matrix, normalizing it firstly...\n",
      "generating by the proportion of cell types of the input scRNA-seq data...\n",
      "begin vae training...\n"
     ]
    },
    {
     "name": "stderr",
     "output_type": "stream",
     "text": [
      "Train Epoch: 99999: 100%|██████████| 100000/100000 [14:33:10<00:00,  1.91it/s, loss=0.4949, min_loss=0.4931] \n"
     ]
    },
    {
     "name": "stdout",
     "output_type": "stream",
     "text": [
      "vae training done!\n",
      "saving the trained vae model...\n",
      "save trained vae in /home/qjy/workspace/scCube/save_model/slice151507_epoch100000.pth.\n"
     ]
    },
    {
     "name": "stderr",
     "output_type": "stream",
     "text": [
      "Generate Epoch: 0: 100%|██████████| 4221/4221 [00:00<00:00, 11367.63it/s]\n"
     ]
    },
    {
     "name": "stdout",
     "output_type": "stream",
     "text": [
      "generated done!\n",
      "data have been prepared!\n",
      "Training model using slice: 151508 data...\n",
      "the input is count matrix, normalizing it firstly...\n",
      "generating by the proportion of cell types of the input scRNA-seq data...\n",
      "begin vae training...\n"
     ]
    },
    {
     "name": "stderr",
     "output_type": "stream",
     "text": [
      "Train Epoch: 57787:  58%|█████▊    | 57788/100000 [6:27:23<4:41:11,  2.50it/s, loss=0.5314, min_loss=0.5314] "
     ]
    }
   ],
   "source": [
    "for i in slice_list:\n",
    "    print('Training model using slice: ' + str(i) + ' data...')\n",
    "    sc_data = pd.read_csv('data/DLPFC/processed/' + str(i) + '_data.csv', index_col=0)\n",
    "    sc_meta = pd.read_csv('data/DLPFC/processed/' + str(i) + '_meta.csv', index_col=0)\n",
    "    \n",
    "    sc_adata = model.pre_process(\n",
    "        sc_data=sc_data, \n",
    "        sc_meta=sc_meta,\n",
    "        is_normalized=False)\n",
    "    \n",
    "    model_name = 'slice' + str(i) + '_epoch100000'\n",
    "    \n",
    "    # train\n",
    "    t1 = time.time()\n",
    "    generate_sc_meta, generate_sc_data = model.train_vae_and_generate_cell(\n",
    "        sc_adata=sc_adata,\n",
    "        celltype_key='Cell_type',\n",
    "        cell_key='Cell',\n",
    "        target_num=None,\n",
    "        batch_size=512,\n",
    "        epoch_num=epochs,\n",
    "        lr=0.0001,\n",
    "        hidden_size=128,\n",
    "        save_model=True,\n",
    "        save_path='/home/qjy/workspace/scCube/save_model',\n",
    "        project_name=model_name,\n",
    "        used_device='cuda:0')\n",
    "    t2 = time.time()\n",
    "    \n",
    "    running_time.append(t2 - t1)\n",
    "    \n",
    "    # generate\n",
    "    t3 = time.time()\n",
    "    generate_sc_data, generate_sc_meta = model.generate_pattern_reference(\n",
    "        sc_adata=sc_adata,\n",
    "        generate_sc_data=generate_sc_data,\n",
    "        generate_sc_meta=generate_sc_meta,\n",
    "        celltype_key='Cell_type',\n",
    "        spatial_key=['x', 'y'],\n",
    "        cost_metric='sqeuclidean'\n",
    "    )\n",
    "    t4 = time.time()\n",
    "    running_time.append(t4 - t3)\n",
    "    \n",
    "    # saving\n",
    "    generate_sc_data.to_csv('result/sccube_DLPFC_' + str(i) + '_epoch100000_data.csv')\n",
    "    generate_sc_meta.to_csv('result/sccube_DLPFC_' + str(i) + '_epoch100000_meta.csv')"
   ]
  },
  {
   "cell_type": "code",
   "execution_count": null,
   "id": "7d6afe11-711f-4b43-8324-a15605bc549f",
   "metadata": {},
   "outputs": [],
   "source": [
    "slice_list_all = list(np.repeat(slice_list, 2))\n",
    "mode = ['train', 'generate']*12\n",
    "\n",
    "running_time_df = pd.DataFrame({'slice': slice_list_all, 'mode': mode, 'time':running_time})\n",
    "running_time_df.to_csv('result/sccube_DLPFC_self_time.csv')\n",
    "\n",
    "running_time_df"
   ]
  },
  {
   "cell_type": "code",
   "execution_count": null,
   "id": "86ba4f5c-3edc-4cb4-b026-c466e7de48e8",
   "metadata": {},
   "outputs": [],
   "source": []
  },
  {
   "cell_type": "code",
   "execution_count": null,
   "id": "ff8eda7e-aabd-450e-83f4-ce3b9a39e4f1",
   "metadata": {},
   "outputs": [],
   "source": []
  }
 ],
 "metadata": {
  "kernelspec": {
   "display_name": "sccube",
   "language": "python",
   "name": "sccube"
  },
  "language_info": {
   "codemirror_mode": {
    "name": "ipython",
    "version": 3
   },
   "file_extension": ".py",
   "mimetype": "text/x-python",
   "name": "python",
   "nbconvert_exporter": "python",
   "pygments_lexer": "ipython3",
   "version": "3.8.16"
  }
 },
 "nbformat": 4,
 "nbformat_minor": 5
}
